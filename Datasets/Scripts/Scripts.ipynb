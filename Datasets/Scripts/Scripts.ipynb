{
 "cells": [
  {
   "cell_type": "markdown",
   "metadata": {},
   "source": [
    "(To be replace by the industry)"
   ]
  },
  {
   "cell_type": "code",
   "execution_count": 1,
   "metadata": {},
   "outputs": [],
   "source": [
    "# Import all libraries\n",
    "import pandas as pd\n",
    "import numpy as np\n",
    "import matplotlib.pyplot as plt\n",
    "import seaborn as sns\n",
    "import os"
   ]
  },
  {
   "cell_type": "code",
   "execution_count": 8,
   "metadata": {},
   "outputs": [],
   "source": [
    "#Assign them to a variable for easy access if neccesary\n",
    "strategy_data = 'C:/Users/valde/Desktop/Interview Projects/Jordan_Craig/Datasets/Assessment_Strategy_Analyst.csv'"
   ]
  },
  {
   "cell_type": "code",
   "execution_count": 9,
   "metadata": {},
   "outputs": [],
   "source": [
    "#Read the libraries\n",
    "strategy_data = pd.read_csv(strategy_data)"
   ]
  },
  {
   "cell_type": "code",
   "execution_count": 12,
   "metadata": {},
   "outputs": [
    {
     "name": "stdout",
     "output_type": "stream",
     "text": [
      "      Customer ID        Date Customer Type Product Rev Shipping Rev  \\\n",
      "5828         3481    2/3/2023           New      $94.12        $9.99   \n",
      "3452         1871   10/7/2022           New     $124.51        $0.00   \n",
      "9597         2271  12/21/2023           New     $145.10        $0.00   \n",
      "1457          874   3/15/2022           New      $57.84        $9.99   \n",
      "5173         3605    1/4/2023     Returning     $100.00        $0.00   \n",
      "\n",
      "     Total Rev  Items Product Disc. Saving Type Product Cost Shipping Cost  \\\n",
      "5828   $104.11      1         0.00%         NaN       $18.82         $9.99   \n",
      "3452   $124.51      2         0.00%         NaN       $24.90         $9.99   \n",
      "9597   $145.10      1        15.00%      Coupon       $34.14         $9.99   \n",
      "1457    $67.83      1         0.00%         NaN       $11.57         $9.99   \n",
      "5173   $100.00      1         0.00%         NaN       $20.00         $9.99   \n",
      "\n",
      "          CAC  \n",
      "5828  $108.00  \n",
      "3452  $119.00  \n",
      "9597   $81.00  \n",
      "1457  $115.00  \n",
      "5173    $0.00  \n"
     ]
    }
   ],
   "source": [
    "print(strategy_data.sample(5))"
   ]
  },
  {
   "cell_type": "markdown",
   "metadata": {},
   "source": [
    "### The following will clean the data \"Strategy Data\""
   ]
  },
  {
   "cell_type": "code",
   "execution_count": 13,
   "metadata": {},
   "outputs": [
    {
     "name": "stdout",
     "output_type": "stream",
     "text": [
      "<class 'pandas.core.frame.DataFrame'>\n",
      "RangeIndex: 9999 entries, 0 to 9998\n",
      "Data columns (total 12 columns):\n",
      " #   Column         Non-Null Count  Dtype \n",
      "---  ------         --------------  ----- \n",
      " 0   Customer ID    9999 non-null   int64 \n",
      " 1   Date           9999 non-null   object\n",
      " 2   Customer Type  9999 non-null   object\n",
      " 3   Product Rev    9999 non-null   object\n",
      " 4   Shipping Rev   9999 non-null   object\n",
      " 5   Total Rev      9999 non-null   object\n",
      " 6   Items          9999 non-null   int64 \n",
      " 7   Product Disc.  9999 non-null   object\n",
      " 8   Saving Type    6287 non-null   object\n",
      " 9   Product Cost   9999 non-null   object\n",
      " 10  Shipping Cost  9999 non-null   object\n",
      " 11  CAC            9999 non-null   object\n",
      "dtypes: int64(2), object(10)\n",
      "memory usage: 937.5+ KB\n"
     ]
    }
   ],
   "source": [
    "#Print the information for the dataset\n",
    "strategy_data.info()"
   ]
  }
 ],
 "metadata": {
  "kernelspec": {
   "display_name": "base",
   "language": "python",
   "name": "python3"
  },
  "language_info": {
   "codemirror_mode": {
    "name": "ipython",
    "version": 3
   },
   "file_extension": ".py",
   "mimetype": "text/x-python",
   "name": "python",
   "nbconvert_exporter": "python",
   "pygments_lexer": "ipython3",
   "version": "3.12.4"
  }
 },
 "nbformat": 4,
 "nbformat_minor": 2
}
