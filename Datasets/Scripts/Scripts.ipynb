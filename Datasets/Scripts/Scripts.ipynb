{
 "cells": [
  {
   "cell_type": "markdown",
   "metadata": {},
   "source": [
    "(To be replace by the industry)"
   ]
  },
  {
   "cell_type": "code",
   "execution_count": 7,
   "metadata": {},
   "outputs": [],
   "source": [
    "# Import all libraries\n",
    "import pandas as pd\n",
    "import numpy as np\n",
    "import matplotlib.pyplot as plt\n",
    "import seaborn as sns\n",
    "import os"
   ]
  },
  {
   "cell_type": "code",
   "execution_count": 8,
   "metadata": {},
   "outputs": [],
   "source": [
    "#Assign them to a variable for easy access if neccesary\n",
    "strategy_data = 'C:/Users/valde/Desktop/Interview Projects/Jordan_Craig/jordan_craig/Datasets/Assessment_Strategy_Analyst.csv'"
   ]
  },
  {
   "cell_type": "code",
   "execution_count": 9,
   "metadata": {},
   "outputs": [],
   "source": [
    "#Read the libraries\n",
    "strategy_data = pd.read_csv(strategy_data)"
   ]
  },
  {
   "cell_type": "code",
   "execution_count": 10,
   "metadata": {},
   "outputs": [
    {
     "name": "stdout",
     "output_type": "stream",
     "text": [
      "      Customer ID        Date Customer Type Product Rev Shipping Rev  \\\n",
      "3277         1238   9/18/2022     Returning      $64.71        $9.99   \n",
      "7825         7843   8/23/2023           New      $94.12        $9.99   \n",
      "4529          701  12/21/2022     Returning     $103.92        $0.00   \n",
      "5776         4461   1/29/2023           New      $72.55        $9.99   \n",
      "2506         1623   6/23/2022     Returning     $170.59        $0.00   \n",
      "\n",
      "     Total Rev  Items Product Disc. Saving Type Product Cost Shipping Cost  \\\n",
      "3277    $74.70      3         0.00%         NaN       $12.94         $9.99   \n",
      "7825   $104.11      3        15.00%      Coupon       $22.15         $9.99   \n",
      "4529   $103.92      1         0.00%         NaN       $20.78         $9.99   \n",
      "5776    $82.54      1        15.00%      Coupon       $17.07         $9.99   \n",
      "2506   $170.59      3         6.67%      Bundle       $36.56         $9.99   \n",
      "\n",
      "          CAC  \n",
      "3277    $0.00  \n",
      "7825  $117.00  \n",
      "4529    $0.00  \n",
      "5776   $72.00  \n",
      "2506    $0.00  \n"
     ]
    }
   ],
   "source": [
    "print(strategy_data.sample(5))"
   ]
  },
  {
   "cell_type": "markdown",
   "metadata": {},
   "source": [
    "### The following will clean the data \"Strategy Data\""
   ]
  },
  {
   "cell_type": "code",
   "execution_count": 11,
   "metadata": {},
   "outputs": [
    {
     "name": "stdout",
     "output_type": "stream",
     "text": [
      "<class 'pandas.core.frame.DataFrame'>\n",
      "RangeIndex: 9999 entries, 0 to 9998\n",
      "Data columns (total 12 columns):\n",
      " #   Column         Non-Null Count  Dtype \n",
      "---  ------         --------------  ----- \n",
      " 0   Customer ID    9999 non-null   int64 \n",
      " 1   Date           9999 non-null   object\n",
      " 2   Customer Type  9999 non-null   object\n",
      " 3   Product Rev    9999 non-null   object\n",
      " 4   Shipping Rev   9999 non-null   object\n",
      " 5   Total Rev      9999 non-null   object\n",
      " 6   Items          9999 non-null   int64 \n",
      " 7   Product Disc.  9999 non-null   object\n",
      " 8   Saving Type    6287 non-null   object\n",
      " 9   Product Cost   9999 non-null   object\n",
      " 10  Shipping Cost  9999 non-null   object\n",
      " 11  CAC            9999 non-null   object\n",
      "dtypes: int64(2), object(10)\n",
      "memory usage: 937.5+ KB\n"
     ]
    }
   ],
   "source": [
    "#Print the information for the dataset\n",
    "strategy_data.info()"
   ]
  },
  {
   "cell_type": "code",
   "execution_count": 13,
   "metadata": {},
   "outputs": [
    {
     "data": {
      "text/plain": [
       "Customer ID         0\n",
       "Date                0\n",
       "Customer Type       0\n",
       "Product Rev         0\n",
       "Shipping Rev        0\n",
       "Total Rev           0\n",
       "Items               0\n",
       "Product Disc.       0\n",
       "Saving Type      3712\n",
       "Product Cost        0\n",
       "Shipping Cost       0\n",
       "CAC                 0\n",
       "dtype: int64"
      ]
     },
     "execution_count": 13,
     "metadata": {},
     "output_type": "execute_result"
    }
   ],
   "source": [
    "#Check for missing values in case of NA\n",
    "strategy_data.isnull().sum()"
   ]
  },
  {
   "cell_type": "code",
   "execution_count": 15,
   "metadata": {},
   "outputs": [],
   "source": [
    "#Remove all the null spaces and replace with zeros\n",
    "strategy_data = strategy_data.fillna(0)"
   ]
  },
  {
   "cell_type": "code",
   "execution_count": 16,
   "metadata": {},
   "outputs": [
    {
     "data": {
      "text/plain": [
       "Customer ID      0\n",
       "Date             0\n",
       "Customer Type    0\n",
       "Product Rev      0\n",
       "Shipping Rev     0\n",
       "Total Rev        0\n",
       "Items            0\n",
       "Product Disc.    0\n",
       "Saving Type      0\n",
       "Product Cost     0\n",
       "Shipping Cost    0\n",
       "CAC              0\n",
       "dtype: int64"
      ]
     },
     "execution_count": 16,
     "metadata": {},
     "output_type": "execute_result"
    }
   ],
   "source": [
    "#check again to see if null spaces were removed\n",
    "strategy_data.isnull().sum()"
   ]
  }
 ],
 "metadata": {
  "kernelspec": {
   "display_name": "base",
   "language": "python",
   "name": "python3"
  },
  "language_info": {
   "codemirror_mode": {
    "name": "ipython",
    "version": 3
   },
   "file_extension": ".py",
   "mimetype": "text/x-python",
   "name": "python",
   "nbconvert_exporter": "python",
   "pygments_lexer": "ipython3",
   "version": "3.12.4"
  }
 },
 "nbformat": 4,
 "nbformat_minor": 2
}
